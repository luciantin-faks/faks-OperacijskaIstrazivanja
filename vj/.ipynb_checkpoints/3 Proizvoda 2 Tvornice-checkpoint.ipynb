{
 "cells": [
  {
   "cell_type": "markdown",
   "metadata": {},
   "source": [
    "Tvrtka proizvodi 3 produkta, A, B, C u dvije tvornice T1 i T2. U tablici su dani troskovi proizvodnje po produktu i tvornici, kapacitet tvornica, te potraznja za proizvodima, Cilj je minimizirati troskove.\n",
    "\n",
    "| Tvornica  | A   | B   | C   | Kapacitet |\n",
    "|-----------|-----|-----|-----|-----------|\n",
    "| 1         | 9   | 18  | 12  | 500       |\n",
    "| 2         | 13  | 18  | 7   | 650       |\n",
    "| Potraznja | 400 | 250 | 350 |           |"
   ]
  },
  {
   "cell_type": "code",
   "execution_count": 3,
   "metadata": {},
   "outputs": [
    {
     "name": "stdout",
     "output_type": "stream",
     "text": [
      " Vr. Fun. Cilja : 10550.000000\n",
      "\n",
      "PyMathProg 1.0 Sensitivity Report Created: 2020/11/05 Thu 16:49PM\n",
      "================================================================================\n",
      "Variable            Activity   Dual.Value     Obj.Coef   Range.From   Range.Till\n",
      "--------------------------------------------------------------------------------\n",
      "*A[0]                    400            0            9            0           13\n",
      " A[1]                      0            4           13            9          inf\n",
      "*B[0]                    100            0           18           14           18\n",
      "*B[1]                    150            0           18           18           22\n",
      " C[0]                      0            5           12            7          inf\n",
      "*C[1]                    350            0            7            0           12\n",
      "================================================================================\n",
      "================================================================================\n",
      "Constraint       Activity Dual.Value  Lower.Bnd  Upper.Bnd RangeLower RangeUpper\n",
      "--------------------------------------------------------------------------------\n",
      " R1                   500          0       -inf        500        400        650\n",
      "*R2                   500          0       -inf        650        500        500\n",
      " R3                   400          9        400        inf        250        500\n",
      " R4                   250         18        250        inf        100        400\n",
      " R5                   350          7        350        inf          0        500\n",
      "================================================================================\n",
      "['__add__', '__class__', '__delattr__', '__dict__', '__dir__', '__div__', '__doc__', '__eq__', '__format__', '__ge__', '__getattribute__', '__gt__', '__hash__', '__init__', '__init_subclass__', '__le__', '__lt__', '__module__', '__mul__', '__ne__', '__neg__', '__new__', '__nonzero__', '__pos__', '__pow__', '__radd__', '__rdiv__', '__reduce__', '__reduce_ex__', '__repr__', '__rmul__', '__rsub__', '__setattr__', '__sizeof__', '__str__', '__sub__', '__subclasshook__', '__truediv__', '__weakref__', '_bad_type', '_good_types', '_var_kinds', 'boundby', 'bounds', 'delete', 'dual', 'free', 'kind', 'kindmap2glpk', 'kindmap2py', 'listen', 'listen2', 'm', 'name', 'primal', 'reset', 'status', 'up', 'update', 'used', 'value_changed']\n"
     ]
    },
    {
     "data": {
      "text/plain": [
       "model('basic') is not the default model."
      ]
     },
     "execution_count": 3,
     "metadata": {},
     "output_type": "execute_result"
    }
   ],
   "source": [
    "from pymprog import * \n",
    "\n",
    "# trosak = [ \n",
    "#     (9,18,12),\n",
    "#     (13,18,7)]\n",
    "\n",
    "# kapacitet = [500,650]\n",
    "\n",
    "# potraznja = [400, 250, 350]\n",
    "\n",
    "begin('basic')\n",
    "\n",
    "A = var('A',2)\n",
    "B = var('B',2)\n",
    "C = var('C',2)\n",
    "\n",
    "minimize( 9*A[0] + 18*B[0] + 12*C[0] +\n",
    "         13*A[1] + 18*B[1] +  7*C[1])\n",
    "\n",
    "A[0] + B[0] + C[0] <= 500\n",
    "A[1] + B[1] + C[1] <= 650\n",
    "\n",
    "A[0] + A[1] >= 400\n",
    "B[0] + B[1] >= 250\n",
    "C[0] + C[1] >= 350\n",
    "\n",
    "solve() \n",
    "print(\" Vr. Fun. Cilja : %f\"%vobj())\n",
    "sensitivity()\n",
    "# print(dir(A[0]))\n",
    "end()\n",
    "\n",
    "# OK"
   ]
  }
 ],
 "metadata": {
  "kernelspec": {
   "display_name": "Python 3",
   "language": "python",
   "name": "python3"
  },
  "language_info": {
   "codemirror_mode": {
    "name": "ipython",
    "version": 3
   },
   "file_extension": ".py",
   "mimetype": "text/x-python",
   "name": "python",
   "nbconvert_exporter": "python",
   "pygments_lexer": "ipython3",
   "version": "3.8.6"
  }
 },
 "nbformat": 4,
 "nbformat_minor": 4
}
