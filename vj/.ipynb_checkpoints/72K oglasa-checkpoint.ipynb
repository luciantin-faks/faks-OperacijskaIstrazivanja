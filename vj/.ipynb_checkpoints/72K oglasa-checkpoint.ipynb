{
 "cells": [
  {
   "cell_type": "markdown",
   "metadata": {},
   "source": [
    "##### Tvrtka zeli potrositi do 72,000 na oglasavanje, a cilj je da se sto siri krug upozna s oglasima. Koristit ce se TV, radio i novine. U tablici je dan trosak po oglasu te broj ljudi koji obuhvaca.\n",
    "\n",
    "| Medij \t| doseg ljudi \t| trosak oglasa \t|\n",
    "|-------\t|-------------\t|---------------\t|\n",
    "| T     \t| 60,000      \t| 2800          \t|\n",
    "| R     \t| 30,000      \t| 1700          \t|\n",
    "| N     \t| 45,000      \t| 1200          \t|\n",
    "\n",
    "###### Nadalje smatra se da nakon 10 oglasa objavljenih na pojedinom mejdiju opada njegova korisnost i to na sljedeci nacin :\n",
    "\n",
    "| Medij \t| prvih 10 oglasa \t| svaki sljedeci \t|\n",
    "|-------\t|-----------------\t|----------------\t|\n",
    "| T     \t| 80              \t| 55             \t|\n",
    "| R     \t| 60              \t| 40             \t|\n",
    "| N     \t| 70              \t| 35             \t|\n",
    "\n",
    "* Cilj je maksimizirrati korisnost uz budetska ogranicenja te da doseg bude barem 1,800,000 ljudi te da barem 1/4 oglasa bude na televiziji"
   ]
  },
  {
   "cell_type": "code",
   "execution_count": null,
   "metadata": {},
   "outputs": [],
   "source": []
  }
 ],
 "metadata": {
  "kernelspec": {
   "display_name": "Python 3",
   "language": "python",
   "name": "python3"
  },
  "language_info": {
   "codemirror_mode": {
    "name": "ipython",
    "version": 3
   },
   "file_extension": ".py",
   "mimetype": "text/x-python",
   "name": "python",
   "nbconvert_exporter": "python",
   "pygments_lexer": "ipython3",
   "version": "3.8.6"
  }
 },
 "nbformat": 4,
 "nbformat_minor": 4
}
