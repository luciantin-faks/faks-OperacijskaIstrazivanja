{
 "cells": [
  {
   "cell_type": "markdown",
   "metadata": {},
   "source": [
    "Treba odrediti koliko će se proizvesti standardnih, a koliko Delux torbi"
   ]
  },
  {
   "cell_type": "code",
   "execution_count": 44,
   "metadata": {},
   "outputs": [
    {
     "name": "stdout",
     "output_type": "stream",
     "text": [
      " Vr. Fun. Cilja : 7668.116540\n",
      "['__add__', '__class__', '__delattr__', '__dict__', '__dir__', '__div__', '__doc__', '__eq__', '__format__', '__ge__', '__getattribute__', '__gt__', '__hash__', '__init__', '__init_subclass__', '__le__', '__lt__', '__module__', '__mul__', '__ne__', '__neg__', '__new__', '__nonzero__', '__pos__', '__pow__', '__radd__', '__rdiv__', '__reduce__', '__reduce_ex__', '__repr__', '__rmul__', '__rsub__', '__setattr__', '__sizeof__', '__str__', '__sub__', '__subclasshook__', '__truediv__', '__weakref__', '_bad_type', '_good_types', '_var_kinds', 'boundby', 'bounds', 'delete', 'dual', 'free', 'kind', 'kindmap2glpk', 'kindmap2py', 'listen', 'listen2', 'm', 'name', 'primal', 'reset', 'status', 'up', 'update', 'used', 'value_changed']\n",
      "<bound method _cons.boundby of R1: 0.7 * x[0] + x[1] <= 630>\n",
      "\n",
      "PyMathProg 1.0 Sensitivity Report Created: 2020/11/04 Wed 17:21PM\n",
      "================================================================================\n",
      "Variable            Activity   Dual.Value     Obj.Coef   Range.From   Range.Till\n",
      "--------------------------------------------------------------------------------\n",
      "*x[0]                540.031            0           10          6.3      13.5014\n",
      "*x[1]                251.978            0            9        6.666      14.2857\n",
      "================================================================================\n",
      "================================================================================\n",
      "Constraint       Activity Dual.Value  Lower.Bnd  Upper.Bnd RangeLower RangeUpper\n",
      "--------------------------------------------------------------------------------\n",
      " R1                   630    4.37587       -inf        630      495.6    682.373\n",
      "*R2               479.989          0       -inf        600    479.989    479.989\n",
      " R3                   708    6.93689       -inf        708    579.972        900\n",
      "*R4               116.998          0       -inf        135    116.998    116.998\n",
      "================================================================================\n",
      "['__bool__', '__class__', '__delattr__', '__dir__', '__doc__', '__eq__', '__format__', '__ge__', '__getattribute__', '__gt__', '__hash__', '__init__', '__init_subclass__', '__le__', '__lt__', '__ne__', '__new__', '__reduce__', '__reduce_ex__', '__repr__', '__setattr__', '__sizeof__', '__str__', '__subclasshook__']\n",
      "\n",
      "PyMathProg 1.0 Sensitivity Report Created: 2020/11/04 Wed 17:21PM\n",
      "================================================================================\n",
      "Variable            Activity   Dual.Value     Obj.Coef   Range.From   Range.Till\n",
      "--------------------------------------------------------------------------------\n",
      "*x[0]                540.031            0           10          6.3      13.5014\n",
      "*x[1]                251.978            0            9        6.666      14.2857\n",
      "================================================================================\n",
      "================================================================================\n",
      "Constraint       Activity Dual.Value  Lower.Bnd  Upper.Bnd RangeLower RangeUpper\n",
      "--------------------------------------------------------------------------------\n",
      " R1                   630    4.37587       -inf        630      495.6    682.373\n",
      "*R2               479.989          0       -inf        600    479.989    479.989\n",
      " R3                   708    6.93689       -inf        708    579.972        900\n",
      "*R4               116.998          0       -inf        135    116.998    116.998\n",
      "================================================================================\n"
     ]
    },
    {
     "data": {
      "text/plain": [
       "model('basic') is not the default model."
      ]
     },
     "execution_count": 44,
     "metadata": {},
     "output_type": "execute_result"
    }
   ],
   "source": [
    "from pymprog import * \n",
    "\n",
    "c = (10, 9)\n",
    "\n",
    "A = [ ( 0.7, 1),     \n",
    "      ( 0.5, 0.8333),   \n",
    "      ( 1, 0.6666),\n",
    "      ( 0.1, 0.25)]   \n",
    "\n",
    "b = (630, 600, 708, 135)\n",
    "\n",
    "begin('basic')\n",
    "\n",
    "# verbose(True)  # be verbose\n",
    "\n",
    "x = var('x', 2) #create 2 variables\n",
    "\n",
    "# maximize(sum(c[i]*x[i] for i in range(2)))\n",
    "\n",
    "# for i in range(4):\n",
    "#   sum(A[i][j]*x[j] for j in range(2)) <= b[i] \n",
    "\n",
    "maximize( c[0]*x[0] + c[1]*x[1] )\n",
    "\n",
    "C1 = A[0][0]*x[0] + A[0][1]*x[1] <= b[0]\n",
    "C2 = A[1][0]*x[0] + A[1][1]*x[1] <= b[1]\n",
    "C3 = A[2][0]*x[0] + A[2][1]*x[1] <= b[2]\n",
    "C4 = A[3][0]*x[0] + A[3][1]*x[1] <= b[3]\n",
    "\n",
    "solve() \n",
    "\n",
    "print(\" Vr. Fun. Cilja : %f\"%vobj())\n",
    "print(dir(x[0]))\n",
    "print(C1.boundby)\n",
    "print(dir(sensitivity()))\n",
    "sensitivity()\n",
    "end()\n",
    "\n",
    "#OK"
   ]
  },
  {
   "cell_type": "code",
   "execution_count": null,
   "metadata": {},
   "outputs": [],
   "source": []
  }
 ],
 "metadata": {
  "kernelspec": {
   "display_name": "Python 3",
   "language": "python",
   "name": "python3"
  },
  "language_info": {
   "codemirror_mode": {
    "name": "ipython",
    "version": 3
   },
   "file_extension": ".py",
   "mimetype": "text/x-python",
   "name": "python",
   "nbconvert_exporter": "python",
   "pygments_lexer": "ipython3",
   "version": "3.8.6"
  }
 },
 "nbformat": 4,
 "nbformat_minor": 4
}
