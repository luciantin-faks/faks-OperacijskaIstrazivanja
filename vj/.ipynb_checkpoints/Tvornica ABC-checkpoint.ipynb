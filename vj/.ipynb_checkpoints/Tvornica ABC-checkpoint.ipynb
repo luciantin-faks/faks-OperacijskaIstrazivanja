{
 "cells": [
  {
   "cell_type": "markdown",
   "metadata": {},
   "source": [
    "#### Tvornica proizvodi 3 proizvoda A B i C\n",
    "\n",
    "* svaki proizvod se radi u 3 faze, krojenje, spajanje i bojanje. Proizvod B moze se prodavati i ako nije obojen. Tablica pokazuje vremena potrebna za svaki pojedini proizvod te njihovu cijenu\n",
    "\n",
    "|  Proizvod | Krojenje  | Spajanje   | Bojanje | Zarada  |\n",
    "|---|---|---|---|---|\n",
    "| A  |  1 | 2  | 4  | 35  |\n",
    "|  B |  2 |  4 | 4  |  40 |\n",
    "|  B (neobojan) | 2  |4   | 0  | 20   |\n",
    "|  C |  3 | 7  | 5  | 50  |\n",
    "|  kapacitet | 200   | 300   | 150  |   |\n",
    "\n",
    "* Odredite plan koji ce maksimizirati zaradu"
   ]
  },
  {
   "cell_type": "code",
   "execution_count": null,
   "metadata": {},
   "outputs": [],
   "source": [
    "from pymprog import * \n",
    "\n",
    "c = (10, 9)\n",
    "\n",
    "A = [ ( 0.7, 1),     \n",
    "      ( 0.5, 0.8333),   \n",
    "      ( 1, 0.6666),\n",
    "      ( 0.1, 0.25)]   \n",
    "\n",
    "b = (630, 600, 708, 135)\n",
    "\n",
    "begin('basic')\n",
    "\n",
    "\n",
    "x = var('x', 2) #create 2 variables\n",
    "\n",
    "maximize( c[0]*x[0] + c[1]*x[1] )\n",
    "\n",
    "C1 = A[0][0]*x[0] + A[0][1]*x[1] <= b[0]\n",
    "C2 = A[1][0]*x[0] + A[1][1]*x[1] <= b[1]\n",
    "C3 = A[2][0]*x[0] + A[2][1]*x[1] <= b[2]\n",
    "C4 = A[3][0]*x[0] + A[3][1]*x[1] <= b[3]\n",
    "\n",
    "solve() \n",
    "print(\" Vr. Fun. Cilja : %f\"%vobj())\n",
    "sensitivity()\n",
    "\n",
    "end()\n",
    "\n",
    "#"
   ]
  }
 ],
 "metadata": {
  "kernelspec": {
   "display_name": "Python 3",
   "language": "python",
   "name": "python3"
  },
  "language_info": {
   "codemirror_mode": {
    "name": "ipython",
    "version": 3
   },
   "file_extension": ".py",
   "mimetype": "text/x-python",
   "name": "python",
   "nbconvert_exporter": "python",
   "pygments_lexer": "ipython3",
   "version": "3.8.6"
  }
 },
 "nbformat": 4,
 "nbformat_minor": 4
}
