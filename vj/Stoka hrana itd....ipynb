{
 "cells": [
  {
   "cell_type": "markdown",
   "metadata": {},
   "source": [
    "####\n",
    "\n",
    "* Za tov stoke potrebno je napraviti smjesu hrane iz danih sastojaka na nacin da su ispunjeni svi uvjeti na njezine hranjive vbrijednosti a da je cijena minimalna. U tablici su dane karakteristike hrane A, B, C i D po kg, te dnevne potrebe pojedine hranjive tvari\n",
    "\n",
    "\n",
    "|              | A   | B    | C    | D    | Dnevne potrebe   |\n",
    "|--------------|-----|------|------|------|------------------|\n",
    "| Proteini     | 15  | 30   | 15   | 7    | minim. 50        |\n",
    "| Kalcij       | 40  | 10   | 40   | 45   | minim. 150       |\n",
    "| Masti        | 20  | 50   | 8    | 25   | Max 120 - min 25 |\n",
    "| Kalorije     | 850 | 1500 | 1200 | 4000 | min 5000         |\n",
    "| Cijena po kg | 70  | 45   | 40   | 90   |                  |"
   ]
  },
  {
   "cell_type": "code",
   "execution_count": 4,
   "metadata": {},
   "outputs": [
    {
     "name": "stdout",
     "output_type": "stream",
     "text": [
      " Vr. Fun. Cilja : 158.490566\n",
      "\n",
      "PyMathProg 1.0 Sensitivity Report Created: 2020/11/04 Wed 21:39PM\n",
      "================================================================================\n",
      "Variable            Activity   Dual.Value     Obj.Coef   Range.From   Range.Till\n",
      "--------------------------------------------------------------------------------\n",
      " A                         0      35.9434           70      34.0566          inf\n",
      " B                         0      14.6226           45      30.3774          inf\n",
      "*C                   3.53774            0           40           27      71.2936\n",
      "*D                  0.188679            0           90           45      122.292\n",
      "================================================================================\n",
      "================================================================================\n",
      "Constraint       Activity Dual.Value  Lower.Bnd  Upper.Bnd RangeLower RangeUpper\n",
      "--------------------------------------------------------------------------------\n",
      "*R1               54.3868          0         50        inf    54.3868    54.3868\n",
      " R2                   150   0.490566        150        inf    140.988    166.667\n",
      "*R3               33.0189          0       -inf        120    33.0189    33.0189\n",
      "*R4               33.0189          0         25        inf    33.0189    33.0189\n",
      " R5                  5000  0.0169811       5000        inf       4500    6177.22\n",
      "================================================================================\n"
     ]
    },
    {
     "data": {
      "text/plain": [
       "model('basic') is not the default model."
      ]
     },
     "execution_count": 4,
     "metadata": {},
     "output_type": "execute_result"
    }
   ],
   "source": [
    "from pymprog import * \n",
    "\n",
    "\n",
    "Param = [ \n",
    "      ( 15, 30, 15, 7),     \n",
    "      ( 40, 10, 40, 45),   \n",
    "      ( 20, 50, 8, 25),\n",
    "      (850, 1500, 1200, 4000)] \n",
    "\n",
    "\n",
    "begin('basic')\n",
    "\n",
    "\n",
    "A = var('A')\n",
    "B = var('B')\n",
    "C = var('C')\n",
    "D = var('D')\n",
    "\n",
    "minimize( 70*A + 45*B + 40*C + 90*D )\n",
    "    \n",
    "C1 =        Param[0][0]*A + Param[0][1]*B + Param[0][2]*C + Param[0][3]*D >= 50\n",
    "C2 =        Param[1][0]*A + Param[1][1]*B + Param[1][2]*C + Param[1][3]*D >= 150\n",
    "C3 = 120 >= Param[2][0]*A + Param[2][1]*B + Param[2][2]*C + Param[2][3]*D >= 25\n",
    "C4 =        Param[3][0]*A + Param[3][1]*B + Param[3][2]*C + Param[3][3]*D >= 5000 \n",
    "\n",
    "solve() \n",
    "print(\" Vr. Fun. Cilja : %f\"%vobj())\n",
    "sensitivity()\n",
    "\n",
    "end()\n",
    "\n",
    "# Valjda OK"
   ]
  }
 ],
 "metadata": {
  "kernelspec": {
   "display_name": "Python 3",
   "language": "python",
   "name": "python3"
  },
  "language_info": {
   "codemirror_mode": {
    "name": "ipython",
    "version": 3
   },
   "file_extension": ".py",
   "mimetype": "text/x-python",
   "name": "python",
   "nbconvert_exporter": "python",
   "pygments_lexer": "ipython3",
   "version": "3.8.6"
  }
 },
 "nbformat": 4,
 "nbformat_minor": 4
}
