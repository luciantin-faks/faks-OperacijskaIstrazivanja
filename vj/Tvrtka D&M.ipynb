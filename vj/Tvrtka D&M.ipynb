{
 "cells": [
  {
   "cell_type": "markdown",
   "metadata": {},
   "source": [
    "#### Dvije sirovine S1 i S2\n",
    "* Ukupna proizvodnja S1 i S2 je najmanje 350l\n",
    "* potrebno je proizvesti najmanje 125l S1\n",
    "* S1 treba 2 sata za proizvodnju 1l\n",
    "* S2 treba 1 sat za proizvodnju 1l\n",
    "* na raspolaganju je 600 sati za proizvodnju\n",
    "* trosak proizvodnje je 2 za 1l S1 i 3 za 1l S2"
   ]
  },
  {
   "cell_type": "code",
   "execution_count": 20,
   "metadata": {},
   "outputs": [
    {
     "name": "stdout",
     "output_type": "stream",
     "text": [
      " Vrijednost funkcije cilja : 800.000000\n",
      "\n",
      "PyMathProg 1.0 Sensitivity Report Created: 2020/11/04 Wed 20:09PM\n",
      "================================================================================\n",
      "Variable            Activity   Dual.Value     Obj.Coef   Range.From   Range.Till\n",
      "--------------------------------------------------------------------------------\n",
      "*x[0]                    250            0            2 -1.79769e+308            3\n",
      "*x[1]                    100            0            3            2 1.79769e+308\n",
      "================================================================================\n",
      "================================================================================\n",
      "Constraint       Activity Dual.Value  Lower.Bnd  Upper.Bnd RangeLower RangeUpper\n",
      "--------------------------------------------------------------------------------\n",
      " R1                   350          4        350        inf        300        475\n",
      " R2                   600         -1       -inf        600        475        700\n",
      "================================================================================\n"
     ]
    },
    {
     "data": {
      "text/plain": [
       "model('basic') is not the default model."
      ]
     },
     "execution_count": 20,
     "metadata": {},
     "output_type": "execute_result"
    }
   ],
   "source": [
    "from pymprog import * \n",
    "\n",
    "\n",
    "begin('basic')\n",
    "\n",
    "x = var('x', 2)\n",
    "p = par('p', 125)\n",
    "\n",
    "x[0] >= p\n",
    "# print(x[0].bounds)\n",
    "# print(x[0])\n",
    "\n",
    "minimize( 2*x[0] + 3*x[1] )\n",
    "\n",
    "G1 = x[0] + x[1] >= 350 # ukupno Litara\n",
    "2*x[0] + x[1] <= 600 # sati proizvodnje\n",
    "# x[0] >= 125 # S1 \n",
    "\n",
    "\n",
    "solve() \n",
    "print(\" Vrijednost funkcije cilja : %f\"%vobj())\n",
    "sensitivity()\n",
    "# print(dir(G1))\n",
    "# print(G1.listen)\n",
    "end()\n",
    "\n",
    "# OK"
   ]
  }
 ],
 "metadata": {
  "kernelspec": {
   "display_name": "Python 3",
   "language": "python",
   "name": "python3"
  },
  "language_info": {
   "codemirror_mode": {
    "name": "ipython",
    "version": 3
   },
   "file_extension": ".py",
   "mimetype": "text/x-python",
   "name": "python",
   "nbconvert_exporter": "python",
   "pygments_lexer": "ipython3",
   "version": "3.8.6"
  }
 },
 "nbformat": 4,
 "nbformat_minor": 4
}
