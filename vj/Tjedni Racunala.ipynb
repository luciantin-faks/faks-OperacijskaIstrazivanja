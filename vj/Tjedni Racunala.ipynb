{
 "cells": [
  {
   "cell_type": "markdown",
   "metadata": {},
   "source": [
    "##### Firma proizvodi racunala i ima sljedeće narudzbe po tjednima :\n",
    "\n",
    "1. 105\n",
    "2. 170\n",
    "3. 230\n",
    "4. 180\n",
    "5. 150\n",
    "6. 250\n",
    "\n",
    "* Firma moze proizvesti 160 racunala tjedno po cijeni 190, te jos 50 u prekovremenom radu po cijeni 260\n",
    "* Ako je racunalo na skladistu onda to kosta 10 po tjednu\n",
    "* Cilj je planirati proizvodnju da zadovolji potrebe i minimizira troskove"
   ]
  },
  {
   "cell_type": "code",
   "execution_count": null,
   "metadata": {},
   "outputs": [],
   "source": [
    "from pymprog import * \n",
    "\n",
    "Param = [ ( 0.7, 1),     \n",
    "      ( 0.5, 0.8333),   \n",
    "      ( 1, 0.6666),\n",
    "      ( 0.1, 0.25)]   \n",
    "\n",
    "\n",
    "begin('basic')\n",
    "\n",
    "Tjedan = var('Tjedan',6)\n",
    "\n",
    "maximize( 23*A + 20*B + 18*C )\n",
    "\n",
    "C1 = A[0][0]*x[0] + A[0][1]*x[1] <= b[0]\n",
    "C2 = A[1][0]*x[0] + A[1][1]*x[1] <= b[1]\n",
    "C3 = A[2][0]*x[0] + A[2][1]*x[1] <= b[2]\n",
    "C4 = A[3][0]*x[0] + A[3][1]*x[1] <= b[3]\n",
    "\n",
    "solve() \n",
    "print(\" Vr. Fun. Cilja : %f\"%vobj())\n",
    "sensitivity()\n",
    "end()\n",
    "\n",
    "#"
   ]
  }
 ],
 "metadata": {
  "kernelspec": {
   "display_name": "Python 3",
   "language": "python",
   "name": "python3"
  },
  "language_info": {
   "codemirror_mode": {
    "name": "ipython",
    "version": 3
   },
   "file_extension": ".py",
   "mimetype": "text/x-python",
   "name": "python",
   "nbconvert_exporter": "python",
   "pygments_lexer": "ipython3",
   "version": "3.8.6"
  }
 },
 "nbformat": 4,
 "nbformat_minor": 4
}
