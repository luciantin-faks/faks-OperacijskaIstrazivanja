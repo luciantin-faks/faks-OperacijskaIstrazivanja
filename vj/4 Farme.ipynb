{
 "cells": [
  {
   "cell_type": "markdown",
   "metadata": {},
   "source": [
    "###### Firma gospodari s 4 farme. Svaka od njih ima odredenu povrsinu te raspoloziv broj sati rada. Razmatra se uzoj 3 kulture.\n",
    "\n",
    "| Farma \t| Povrsina \t| Broj Sati \t|   \t|   \t| Kultura \t| Max pov. \t| Potrebe za radom \t| Ocekivana zarada \t|\n",
    "|-------\t|----------\t|-----------\t|---\t|---\t|---------\t|----------\t|------------------\t|------------------\t|\n",
    "| 1     \t| 500      \t| 1,700     \t|   \t|   \t| A       \t| 700      \t| 2                \t| 500              \t|\n",
    "| 2     \t| 900      \t| 3,000     \t|   \t|   \t| B       \t| 800      \t| 4                \t| 200              \t|\n",
    "| 3     \t| 300      \t| 900       \t|   \t|   \t| C       \t| 300      \t| 3                \t| 300              \t|\n",
    "| 4     \t| 700      \t| 2,200     \t|   \t|   \t|         \t|          \t|                  \t|                  \t|\n",
    "\n",
    "* nadalje maks. podrucje za jednu kulturu je ograniceno\n",
    "* potrebno je da je postotak upotrebljenog zemljista na svakoj farmi isti. \n",
    "* Cilj je uzgoj kultura da se maksimizira zarada\n",
    "\n",
    "\n"
   ]
  },
  {
   "cell_type": "markdown",
   "metadata": {},
   "source": [
    "###### Varijable :\n",
    "* \\[A1 - A4\\] - jedinica povrsine za kulturu A\n",
    "* \\[B1 - B4\\] - jedinica povrsine za kulturu B\n",
    "* \\[C1 - C4\\] - jedinica povrsine za kulturu C\n",
    "    \n",
    "###### Funkcija Cilja :\n",
    "\n",
    "* Max( 500(A1 + A2 + A3 + A4) + 200(B1 + B2 + B3 + B4) + 300(C1 + C2 + C3 + C4))\n",
    " \n",
    "###### Ogranicenja\n",
    "\n",
    "|    Povrsina farmi   \t|   \t|       Max Povrsina       \t|   \t|          Sati Rada         \t|\n",
    "|:-------------------:\t|:-:\t|:------------------------:\t|:-:\t|:--------------------------:\t|\n",
    "| A1 + B1 + C1 <= 500 \t|   \t| A1 + A2 + A3 + A4 <= 700 \t|   \t| 2*A1 + 4*B1 + 3*C1 <= 1700 \t|\n",
    "| A2 + B2 + C2 <= 900 \t|   \t| B1 + B2 + B3 + B4 <= 800 \t|   \t| 2*A2 + 4*B2 + 3*C2 <= 3000 \t|\n",
    "| A3 + B3 + C3 <= 300 \t|   \t| C1 + C2 + C3 + C4 <= 300 \t|   \t|  2*A3 + 4*B3 + 3*C3 <= 900 \t|\n",
    "| A4 + B4 + C4 <= 700 \t|   \t|                          \t|   \t| 2*A4 + 4*B4 + 3*C4 <= 2200 \t|\n",
    "\n",
    "- % Upotrebljenog Zemljista\n",
    "\n",
    "*  ((A1 + B1 + C1)/500) = ((A2 + B2 + C2)/900) = ((A3 + B3 + C3)/300) = ((A4 + B4 + C4)/700)"
   ]
  },
  {
   "cell_type": "code",
   "execution_count": 16,
   "metadata": {},
   "outputs": [
    {
     "name": "stdout",
     "output_type": "stream",
     "text": [
      " Vr. Fun. Cilja : 600000.000000\n",
      "\n",
      "PyMathProg 1.0 Sensitivity Report Created: 2020/11/06 Fri 16:44PM\n",
      "================================================================================\n",
      "Variable            Activity   Dual.Value     Obj.Coef   Range.From   Range.Till\n",
      "--------------------------------------------------------------------------------\n",
      "*A[0]                    375            0          500          500 1.79769e+308\n",
      " A[1]                      0            0          500         -inf          500\n",
      "*A[2]                    225            0          500          500 1.79769e+308\n",
      "*A[3]                    100            0          500          500          500\n",
      " B[0]                      0            0          200         -inf          200\n",
      "*B[1]                    375            0          200          200          200\n",
      " B[2]                      0            0          200         -inf          200\n",
      "*B[3]                    425            0          200          200          200\n",
      " C[0]                      0            0          300         -inf          300\n",
      "*C[1]                    300            0          300          300 1.79769e+308\n",
      " C[2]                      0            0          300         -inf          300\n",
      " C[3]                      0            0          300         -inf          300\n",
      "================================================================================\n",
      "================================================================================\n",
      "Constraint       Activity Dual.Value  Lower.Bnd  Upper.Bnd RangeLower RangeUpper\n",
      "--------------------------------------------------------------------------------\n",
      " R1                     0          0          0          0       -0.8        0.3\n",
      " R2                     0          0          0          0  -0.191489        0.4\n",
      " R3                     0          0          0          0  -0.197802   0.428571\n",
      "*R4                   375          0       -inf        500        375        375\n",
      "*R5                   675          0       -inf        900        675        675\n",
      "*R6                   225          0       -inf        300        225        225\n",
      "*R7                   525          0       -inf        700        525        525\n",
      " R8                   700        500       -inf        700        550       1100\n",
      " R9                   800        200       -inf        800        120    963.636\n",
      " R10                  300        300       -inf        300          0    463.636\n",
      "*R11                  750          0       -inf       1700        750        750\n",
      "*R12                 2400          0       -inf       3000       2400       2400\n",
      "*R13                  450          0       -inf        900        450        450\n",
      "*R14                 1900          0       -inf       2200       1900       1900\n",
      "================================================================================\n"
     ]
    },
    {
     "data": {
      "text/plain": [
       "model('basic') is not the default model."
      ]
     },
     "execution_count": 16,
     "metadata": {},
     "output_type": "execute_result"
    }
   ],
   "source": [
    "from pymprog import * \n",
    "\n",
    "\n",
    "begin('basic')\n",
    "\n",
    "A = var('A',4, kind=float)\n",
    "B = var('B',4, kind=float)\n",
    "C = var('C',4, kind=float)\n",
    "\n",
    "maximize(  500*(A[0] + A[1] + A[2] + A[3])+ \n",
    "           200*(B[0] + B[1] + B[2] + B[3])+ \n",
    "           300*(C[0] + C[1] + C[2] + C[3]))\n",
    "\n",
    "# % Upotrebljenog Zemljista\n",
    "((A[0] + B[0] + C[0])/500) == ((A[1] + B[1] + C[1])/900) == \\\n",
    " ((A[2] + B[2] + C[2])/300) == ((A[3] + B[3] + C[3])/700)\n",
    "\n",
    "# Povrsina farmi\n",
    "\n",
    "A[0] + B[0] + C[0] <= 500\n",
    "A[1] + B[1] + C[1] <= 900\n",
    "A[2] + B[2] + C[2] <= 300\n",
    "A[3] + B[3] + C[3] <= 700\n",
    "\n",
    "# Max Povrsina\n",
    "\n",
    "A[0] + A[1] + A[2] + A[3] <= 700\n",
    "B[0] + B[1] + B[2] + B[3] <= 800\n",
    "C[0] + C[1] + C[2] + C[3] <= 300\n",
    "\n",
    "# Sati Rada\n",
    "\n",
    "2*A[0] + 4*B[0] + 3*C[0] <= 1700\n",
    "2*A[1] + 4*B[1] + 3*C[1] <= 3000\n",
    "2*A[2] + 4*B[2] + 3*C[2] <= 900\n",
    "2*A[3] + 4*B[3] + 3*C[3] <= 2200\n",
    "\n",
    "solve() \n",
    "print(\" Vr. Fun. Cilja : %f\"%vobj())\n",
    "sensitivity()\n",
    "end()\n",
    "\n",
    "# "
   ]
  }
 ],
 "metadata": {
  "kernelspec": {
   "display_name": "Python 3",
   "language": "python",
   "name": "python3"
  },
  "language_info": {
   "codemirror_mode": {
    "name": "ipython",
    "version": 3
   },
   "file_extension": ".py",
   "mimetype": "text/x-python",
   "name": "python",
   "nbconvert_exporter": "python",
   "pygments_lexer": "ipython3",
   "version": "3.8.6"
  }
 },
 "nbformat": 4,
 "nbformat_minor": 4
}
